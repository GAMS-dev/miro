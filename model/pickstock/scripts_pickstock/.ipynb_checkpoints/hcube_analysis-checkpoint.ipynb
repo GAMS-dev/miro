{
 "cells": [
  {
   "cell_type": "code",
   "execution_count": 12,
   "metadata": {},
   "outputs": [
    {
     "data": {
      "text/html": [
       "<script>\n",
       "code_show=true; \n",
       "function code_toggle() {\n",
       " if (code_show){\n",
       " $('div.input').hide();\n",
       " } else {\n",
       " $('div.input').show();\n",
       " }\n",
       " code_show = !code_show\n",
       "} \n",
       "$( document ).ready(code_toggle);\n",
       "</script>\n",
       "<form action=\"javascript:code_toggle()\"><input type=\"submit\" value=\"Click here to toggle on/off the raw code.\"></form>"
      ],
      "text/plain": [
       "<IPython.core.display.HTML object>"
      ]
     },
     "execution_count": 12,
     "metadata": {},
     "output_type": "execute_result"
    }
   ],
   "source": [
    "from IPython.display import HTML\n",
    "# kudos to harshil: https://stackoverflow.com/questions/27934885/how-to-hide-code-from-cells-in-ipython-notebook-visualized-with-nbviewer\n",
    "HTML('''<script>\n",
    "code_show=true; \n",
    "function code_toggle() {\n",
    " if (code_show){\n",
    " $('div.input').hide();\n",
    " } else {\n",
    " $('div.input').show();\n",
    " }\n",
    " code_show = !code_show\n",
    "} \n",
    "$( document ).ready(code_toggle);\n",
    "</script>\n",
    "<form action=\"javascript:code_toggle()\"><input type=\"submit\" value=\"Click here to toggle on/off the raw code.\"></form>''')"
   ]
  },
  {
   "cell_type": "code",
   "execution_count": 3,
   "metadata": {},
   "outputs": [
    {
     "name": "stdout",
     "output_type": "stream",
     "text": [
      "--- Warning: The GAMS version (28.0.0) differs from the API version (29.1.0).\n"
     ]
    }
   ],
   "source": [
    "from gams import *\n",
    "ws = GamsWorkspace(system_directory = '/Applications/GAMS29.0/GAMS Terminal.app/Contents/MacOS',\n",
    "                   working_directory = '.')"
   ]
  },
  {
   "cell_type": "markdown",
   "metadata": {},
   "source": [
    "# How many stocks to select?\n",
    "We want to get some more insight into the data we produced with our Hypercube job. Thus, we first read the scalar data and transform it into a single large dataframe:"
   ]
  },
  {
   "cell_type": "code",
   "execution_count": 4,
   "metadata": {},
   "outputs": [],
   "source": [
    "scalars = ( 'trainingdays', 'maxstock', 'error_train', 'error_test' )\n",
    "\n",
    "scalar_data = { scalar: [] for scalar in scalars}\n",
    "\n",
    "total_days = 0\n",
    "\n",
    "with open('hcube_file_names.txt') as f:\n",
    "    for scenario_to_analyze in f:\n",
    "        gdx_data_tmp = ws.add_database_from_gdx(scenario_to_analyze.strip())\n",
    "        for scalar in scalars:\n",
    "            scalar_data[scalar].append(gdx_data_tmp[scalar].first_record().value)\n",
    "        if total_days == 0:\n",
    "            total_days = len({rec.keys[0] for rec in gdx_data_tmp['price']})\n"
   ]
  },
  {
   "cell_type": "code",
   "execution_count": 5,
   "metadata": {},
   "outputs": [
    {
     "data": {
      "text/html": [
       "<div>\n",
       "<style scoped>\n",
       "    .dataframe tbody tr th:only-of-type {\n",
       "        vertical-align: middle;\n",
       "    }\n",
       "\n",
       "    .dataframe tbody tr th {\n",
       "        vertical-align: top;\n",
       "    }\n",
       "\n",
       "    .dataframe thead th {\n",
       "        text-align: right;\n",
       "    }\n",
       "</style>\n",
       "<table border=\"1\" class=\"dataframe\">\n",
       "  <thead>\n",
       "    <tr style=\"text-align: right;\">\n",
       "      <th></th>\n",
       "      <th>trainingdays</th>\n",
       "      <th>maxstock</th>\n",
       "      <th>error_train</th>\n",
       "      <th>error_test</th>\n",
       "      <th>error_train_norm</th>\n",
       "      <th>error_test_norm</th>\n",
       "      <th>error_ratio_norm</th>\n",
       "    </tr>\n",
       "  </thead>\n",
       "  <tbody>\n",
       "    <tr>\n",
       "      <th>0</th>\n",
       "      <td>124.0</td>\n",
       "      <td>3.0</td>\n",
       "      <td>62.878086</td>\n",
       "      <td>208.281044</td>\n",
       "      <td>0.507081</td>\n",
       "      <td>1.627196</td>\n",
       "      <td>0.311629</td>\n",
       "    </tr>\n",
       "    <tr>\n",
       "      <th>1</th>\n",
       "      <td>129.0</td>\n",
       "      <td>5.0</td>\n",
       "      <td>35.024747</td>\n",
       "      <td>249.039006</td>\n",
       "      <td>0.271510</td>\n",
       "      <td>2.024707</td>\n",
       "      <td>0.134098</td>\n",
       "    </tr>\n",
       "    <tr>\n",
       "      <th>2</th>\n",
       "      <td>104.0</td>\n",
       "      <td>7.0</td>\n",
       "      <td>15.351572</td>\n",
       "      <td>123.909313</td>\n",
       "      <td>0.147611</td>\n",
       "      <td>0.837225</td>\n",
       "      <td>0.176310</td>\n",
       "    </tr>\n",
       "    <tr>\n",
       "      <th>3</th>\n",
       "      <td>104.0</td>\n",
       "      <td>3.0</td>\n",
       "      <td>49.686128</td>\n",
       "      <td>221.394472</td>\n",
       "      <td>0.477751</td>\n",
       "      <td>1.495909</td>\n",
       "      <td>0.319372</td>\n",
       "    </tr>\n",
       "    <tr>\n",
       "      <th>4</th>\n",
       "      <td>114.0</td>\n",
       "      <td>3.0</td>\n",
       "      <td>56.805983</td>\n",
       "      <td>344.276732</td>\n",
       "      <td>0.498298</td>\n",
       "      <td>2.494759</td>\n",
       "      <td>0.199738</td>\n",
       "    </tr>\n",
       "  </tbody>\n",
       "</table>\n",
       "</div>"
      ],
      "text/plain": [
       "   trainingdays  maxstock  error_train  error_test  error_train_norm  \\\n",
       "0         124.0       3.0    62.878086  208.281044          0.507081   \n",
       "1         129.0       5.0    35.024747  249.039006          0.271510   \n",
       "2         104.0       7.0    15.351572  123.909313          0.147611   \n",
       "3         104.0       3.0    49.686128  221.394472          0.477751   \n",
       "4         114.0       3.0    56.805983  344.276732          0.498298   \n",
       "\n",
       "   error_test_norm  error_ratio_norm  \n",
       "0         1.627196          0.311629  \n",
       "1         2.024707          0.134098  \n",
       "2         0.837225          0.176310  \n",
       "3         1.495909          0.319372  \n",
       "4         2.494759          0.199738  "
      ]
     },
     "execution_count": 5,
     "metadata": {},
     "output_type": "execute_result"
    }
   ],
   "source": [
    "import pandas\n",
    "scalar_df = pandas.DataFrame.from_dict(scalar_data)\n",
    "\n",
    "scalar_df['error_train_norm'] = scalar_df.apply(lambda row: \n",
    "                                                  row['error_train'] / row['trainingdays'], \n",
    "                                                axis=1)\n",
    "scalar_df['error_test_norm'] = scalar_df.apply(lambda row: \n",
    "                                                  row['error_test'] / (total_days - row['trainingdays']), \n",
    "                                                axis=1)\n",
    "scalar_df['error_ratio_norm'] = scalar_df.apply(lambda row: \n",
    "                                                  row['error_train_norm'] / row['error_test_norm'], \n",
    "                                                axis=1)\n",
    "\n",
    "scalar_df.head()"
   ]
  },
  {
   "cell_type": "markdown",
   "metadata": {},
   "source": [
    "Now that we have the data in the shape we want, we can plot it. Let's first look at the training error:"
   ]
  },
  {
   "cell_type": "code",
   "execution_count": 13,
   "metadata": {},
   "outputs": [
    {
     "data": {
      "image/png": "[encoded data removed]",
      "text/plain": [
       "<Figure size 432x288 with 1 Axes>"
      ]
     },
     "metadata": {
      "needs_background": "light"
     },
     "output_type": "display_data"
    }
   ],
   "source": [
    "%matplotlib inline\n",
    "import matplotlib.pyplot as plt\n",
    "import seaborn as sns\n",
    "\n",
    "df = scalar_df.pivot(index='trainingdays', columns='maxstock', values='error_train_norm')\n",
    "df.plot.box()\n",
    "\n",
    "plt.show()"
   ]
  },
  {
   "cell_type": "code",
   "execution_count": 19,
   "metadata": {},
   "outputs": [
    {
     "data": {
      "image/png": "[encoded data removed]",
      "text/plain": [
       "<Figure size 432x288 with 2 Axes>"
      ]
     },
     "metadata": {
      "needs_background": "light"
     },
     "output_type": "display_data"
    }
   ],
   "source": [
    "%matplotlib inline\n",
    "for\n",
    "scalar_df.plot.scatter(x='maxstock', y='error_train_norm', c='trainingdays')\n",
    "plt.show()"
   ]
  },
  {
   "cell_type": "code",
   "execution_count": null,
   "metadata": {},
   "outputs": [],
   "source": []
  }
 ],
 "metadata": {
  "kernelspec": {
   "display_name": "Python 3",
   "language": "python",
   "name": "python3"
  },
  "language_info": {
   "codemirror_mode": {
    "name": "ipython",
    "version": 3
   },
   "file_extension": ".py",
   "mimetype": "text/x-python",
   "name": "python",
   "nbconvert_exporter": "python",
   "pygments_lexer": "ipython3",
   "version": "3.7.5"
  }
 },
 "nbformat": 4,
 "nbformat_minor": 2
}
